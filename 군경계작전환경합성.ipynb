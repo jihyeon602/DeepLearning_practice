{
  "cells": [
    {
      "cell_type": "markdown",
      "metadata": {
        "id": "view-in-github",
        "colab_type": "text"
      },
      "source": [
        "<a href=\"https://colab.research.google.com/github/jihyeon602/DeepLearning_practice/blob/main/%EA%B5%B0%EA%B2%BD%EA%B3%84%EC%9E%91%EC%A0%84%ED%99%98%EA%B2%BD%ED%95%A9%EC%84%B1.ipynb\" target=\"_parent\"><img src=\"https://colab.research.google.com/assets/colab-badge.svg\" alt=\"Open In Colab\"/></a>"
      ]
    },
    {
      "cell_type": "markdown",
      "id": "dba92db4",
      "metadata": {
        "id": "dba92db4"
      },
      "source": [
        "# 군 경계 작전 환경 합성 데이터\n",
        "- 문제정의: **여러 class를 실시간 탐지하는 모델 생성 및 추론 테스트**\n",
        "\n",
        "- **dataset**: EO(RGB)_SU(하절기)_DT(주간) 데이터셋만 사용  #용량이슈\n",
        "  - 원본 그대로 TRAIN은 train val로 구성\n",
        "\n",
        "- **annotations**: 문서에 있는 class만 실시간 탐지하도록 구성\n",
        "  - GPU 사용 제한 시 샘플링❗\n",
        "\n",
        "- **산출물**: model파일(.pt 등), results"
      ]
    },
    {
      "cell_type": "markdown",
      "id": "f0252254",
      "metadata": {
        "id": "f0252254"
      },
      "source": [
        "### 데이터 로드"
      ]
    },
    {
      "cell_type": "code",
      "execution_count": null,
      "id": "9cb38d01",
      "metadata": {
        "id": "9cb38d01"
      },
      "outputs": [],
      "source": [
        "import zipfile\n",
        "\n",
        "zip_file_path = './3.개방데이터/1.데이터/Training/02.라벨링데이터/TL_EO_SU_DT.zip'\n",
        "extract_to = './AMY/labels_json/train'\n",
        "\n",
        "with zipfile.ZipFile(zip_file_path, 'r') as zip_ref:\n",
        "    zip_ref.extractall(extract_to)\n",
        "\n",
        "print(\"압축 해제 완료!\")"
      ]
    },
    {
      "cell_type": "code",
      "execution_count": null,
      "id": "7a57182b",
      "metadata": {
        "id": "7a57182b"
      },
      "outputs": [],
      "source": [
        "import zipfile\n",
        "\n",
        "zip_file_path = './3.개방데이터/1.데이터/Training/01.원천데이터/TS_EO_SU_DT.zip'\n",
        "extract_to = './AMY/images/train'\n",
        "\n",
        "with zipfile.ZipFile(zip_file_path, 'r') as zip_ref:\n",
        "    zip_ref.extractall(extract_to)\n",
        "\n",
        "print(\"압축 해제 완료!\")"
      ]
    },
    {
      "cell_type": "code",
      "execution_count": null,
      "id": "5064f07c",
      "metadata": {
        "id": "5064f07c"
      },
      "outputs": [],
      "source": [
        "import zipfile\n",
        "\n",
        "zip_file_path = './3.개방데이터/1.데이터/Validation/02.라벨링데이터/VL_EO_SU_DT.zip'\n",
        "extract_to = './AMY/labels_json/val'\n",
        "\n",
        "with zipfile.ZipFile(zip_file_path, 'r') as zip_ref:\n",
        "    zip_ref.extractall(extract_to)\n",
        "\n",
        "print(\"압축 해제 완료!\")"
      ]
    },
    {
      "cell_type": "code",
      "execution_count": null,
      "id": "7ac1c116",
      "metadata": {
        "id": "7ac1c116"
      },
      "outputs": [],
      "source": [
        "import zipfile\n",
        "\n",
        "zip_file_path = './3.개방데이터/1.데이터/Validation/01.원천데이터/VS_EO_SU_DT.zip'\n",
        "extract_to = './AMY/images/val'\n",
        "\n",
        "with zipfile.ZipFile(zip_file_path, 'r') as zip_ref:\n",
        "    zip_ref.extractall(extract_to)\n",
        "\n",
        "print(\"압축 해제 완료!\")"
      ]
    },
    {
      "cell_type": "markdown",
      "id": "1a97d3b8",
      "metadata": {
        "id": "1a97d3b8"
      },
      "source": [
        "### json 파일 yolo 포맷(.txt) 파일로 변환"
      ]
    },
    {
      "cell_type": "code",
      "execution_count": null,
      "id": "9a8c833b",
      "metadata": {
        "id": "9a8c833b"
      },
      "outputs": [],
      "source": [
        "import os\n",
        "import json\n",
        "from PIL import Image\n",
        "\n",
        "# 기본 경로\n",
        "base_path = \"./3.개방데이터/1.데이터\"\n",
        "\n",
        "# 경로 딕셔너리\n",
        "sets = {\n",
        "    'train': {\n",
        "        'json_folder': os.path.join(base_path, \"labels_json\", \"train\"),   # JSON 라벨\n",
        "        'image_folder': os.path.join(base_path, \"images\", \"train\"),  # 이미지\n",
        "        'output_folder': os.path.join(base_path, \"labels\", \"train\")  # YOLO 형식 저장될 위치\n",
        "    },\n",
        "    'val': {\n",
        "        'json_folder': os.path.join(base_path, \"labels_json\", \"val\"),\n",
        "        'image_folder': os.path.join(base_path, \"images\", \"val\"),\n",
        "        'output_folder': os.path.join(base_path, \"labels\", \"val\")\n",
        "    }\n",
        "}\n",
        "\n",
        "# 지원 이미지 확장자\n",
        "image_exts = ['.jpg', '.jpeg', '.png']\n",
        "\n",
        "# 변환 함수 정의\n",
        "def convert_to_yolo(json_folder, image_folder, output_folder):\n",
        "    os.makedirs(output_folder, exist_ok=True)\n",
        "\n",
        "    for file in os.listdir(json_folder):\n",
        "        if file.endswith('.json'):\n",
        "            base_name = os.path.splitext(file)[0]\n",
        "\n",
        "            # JSON 로드\n",
        "            with open(os.path.join(json_folder, file), 'r', encoding='utf-8') as f:\n",
        "                data = json.load(f)\n",
        "\n",
        "            # 이미지 찾기\n",
        "            image_path = None\n",
        "            for ext in image_exts:\n",
        "                candidate = os.path.join(image_folder, base_name + ext)\n",
        "                if os.path.exists(candidate):\n",
        "                    image_path = candidate\n",
        "                    break\n",
        "\n",
        "            if not image_path:\n",
        "                print(f\"⚠️ 이미지 없음: {base_name}\")\n",
        "                continue\n",
        "\n",
        "            # 이미지 크기\n",
        "            with Image.open(image_path) as img:\n",
        "                img_width, img_height = img.size\n",
        "\n",
        "            yolo_lines = []\n",
        "            for ann in data.get(\"annotations\", []):\n",
        "                if ann.get(\"shape\") == \"Bounding Box\":\n",
        "                    (x1, y1), (x2, y2) = ann[\"points\"]\n",
        "                    cx = (x1 + x2) / 2 / img_width\n",
        "                    cy = (y1 + y2) / 2 / img_height\n",
        "                    w = abs(x2 - x1) / img_width\n",
        "                    h = abs(y2 - y1) / img_height\n",
        "                    yolo_lines.append(f\"0 {cx:.6f} {cy:.6f} {w:.6f} {h:.6f}\")\n",
        "\n",
        "            # 결과 저장\n",
        "            out_path = os.path.join(output_folder, base_name + \".txt\")\n",
        "            with open(out_path, \"w\", encoding='utf-8') as f:\n",
        "                f.write(\"\\n\".join(yolo_lines))\n",
        "\n",
        "            print(f\"✅ 변환 완료: {base_name}.txt\")\n",
        "\n",
        "# ▶ 각 세트(train, val)에 대해 실행\n",
        "for phase, paths in sets.items():\n",
        "    print(f\"\\n📂 처리 중: {phase}\")\n",
        "    convert_to_yolo(paths['json_folder'], paths['image_folder'], paths['output_folder'])\n",
        ""
      ]
    }
  ],
  "metadata": {
    "kernelspec": {
      "display_name": "base",
      "language": "python",
      "name": "python3"
    },
    "language_info": {
      "name": "python",
      "version": "3.12.7"
    },
    "colab": {
      "provenance": [],
      "include_colab_link": true
    }
  },
  "nbformat": 4,
  "nbformat_minor": 5
}