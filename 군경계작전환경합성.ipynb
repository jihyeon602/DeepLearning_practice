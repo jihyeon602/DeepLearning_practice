{
  "cells": [
    {
      "cell_type": "markdown",
      "metadata": {
        "id": "view-in-github",
        "colab_type": "text"
      },
      "source": [
        "<a href=\"https://colab.research.google.com/github/jihyeon602/DeepLearning_practice/blob/main/%EA%B5%B0%EA%B2%BD%EA%B3%84%EC%9E%91%EC%A0%84%ED%99%98%EA%B2%BD%ED%95%A9%EC%84%B1.ipynb\" target=\"_parent\"><img src=\"https://colab.research.google.com/assets/colab-badge.svg\" alt=\"Open In Colab\"/></a>"
      ]
    },
    {
      "cell_type": "markdown",
      "id": "dba92db4",
      "metadata": {
        "id": "dba92db4"
      },
      "source": [
        "# 군 경계 작전 환경 합성 데이터\n",
        "- 문제정의: **여러 class를 실시간 탐지하는 모델 생성 및 추론 테스트**\n",
        "\n",
        "- **dataset**: EO(RGB)_SU(하절기)_DT(주간) 데이터셋만 사용  #용량이슈\n",
        "  - 원본 그대로 TRAIN은 train val로 구성\n",
        "\n",
        "- **annotations**: 문서에 있는 class만 실시간 탐지하도록 구성\n",
        "  - GPU 사용 제한 시 샘플링❗\n",
        "\n",
        "- **산출물**: model파일(.pt 등), results"
      ]
    },
    {
      "cell_type": "markdown",
      "source": [
        "- 640으로 리사이즈\n",
        "- whxy 정규화"
      ],
      "metadata": {
        "id": "__pJyExbAJV2"
      },
      "id": "__pJyExbAJV2"
    },
    {
      "cell_type": "markdown",
      "id": "f0252254",
      "metadata": {
        "id": "f0252254"
      },
      "source": [
        "### 데이터 로드"
      ]
    },
    {
      "cell_type": "code",
      "source": [
        "from google.colab import drive\n",
        "drive.mount('/content/drive')"
      ],
      "metadata": {
        "colab": {
          "base_uri": "https://localhost:8080/"
        },
        "id": "MNMBzQYR9iEO",
        "outputId": "ed3e867f-128c-4085-d3d3-c3ba3b0c0dbf"
      },
      "id": "MNMBzQYR9iEO",
      "execution_count": 3,
      "outputs": [
        {
          "output_type": "stream",
          "name": "stdout",
          "text": [
            "Drive already mounted at /content/drive; to attempt to forcibly remount, call drive.mount(\"/content/drive\", force_remount=True).\n"
          ]
        }
      ]
    },
    {
      "cell_type": "code",
      "execution_count": 3,
      "id": "9cb38d01",
      "metadata": {
        "id": "9cb38d01",
        "colab": {
          "base_uri": "https://localhost:8080/"
        },
        "outputId": "ec8790f6-0d05-4986-cac4-09458dc337d7"
      },
      "outputs": [
        {
          "output_type": "stream",
          "name": "stdout",
          "text": [
            "압축 해제 완료!\n"
          ]
        }
      ],
      "source": [
        "import zipfile\n",
        "\n",
        "zip_file_path = '/content/drive/MyDrive/AMY/TL_EO_SU_DT.zip'\n",
        "extract_to = '/content/drive/MyDrive/AMY/labels_json_all/train'\n",
        "\n",
        "with zipfile.ZipFile(zip_file_path, 'r') as zip_ref:\n",
        "    zip_ref.extractall(extract_to)\n",
        "\n",
        "print(\"압축 해제 완료!\")"
      ]
    },
    {
      "cell_type": "code",
      "execution_count": 4,
      "id": "7a57182b",
      "metadata": {
        "id": "7a57182b",
        "colab": {
          "base_uri": "https://localhost:8080/"
        },
        "outputId": "558177d3-7c94-4796-bbde-58520a1587d2"
      },
      "outputs": [
        {
          "output_type": "stream",
          "name": "stdout",
          "text": [
            "압축 해제 완료!\n"
          ]
        }
      ],
      "source": [
        "import zipfile\n",
        "\n",
        "zip_file_path = '/content/drive/MyDrive/AMY/TS_EO_SU_DT.zip'\n",
        "extract_to = '/content/drive/MyDrive/AMY/images_all/train'\n",
        "\n",
        "with zipfile.ZipFile(zip_file_path, 'r') as zip_ref:\n",
        "    zip_ref.extractall(extract_to)\n",
        "\n",
        "print(\"압축 해제 완료!\")"
      ]
    },
    {
      "cell_type": "code",
      "execution_count": 5,
      "id": "5064f07c",
      "metadata": {
        "id": "5064f07c",
        "colab": {
          "base_uri": "https://localhost:8080/"
        },
        "outputId": "621a4679-1058-486e-a131-8c936f0f953f"
      },
      "outputs": [
        {
          "output_type": "stream",
          "name": "stdout",
          "text": [
            "압축 해제 완료!\n"
          ]
        }
      ],
      "source": [
        "import zipfile\n",
        "\n",
        "zip_file_path = '/content/drive/MyDrive/AMY/VL_EO_SU_DT.zip'\n",
        "extract_to = '/content/drive/MyDrive/AMY/labels_json_all/val'\n",
        "\n",
        "with zipfile.ZipFile(zip_file_path, 'r') as zip_ref:\n",
        "    zip_ref.extractall(extract_to)\n",
        "\n",
        "print(\"압축 해제 완료!\")"
      ]
    },
    {
      "cell_type": "code",
      "execution_count": 7,
      "id": "7ac1c116",
      "metadata": {
        "id": "7ac1c116",
        "colab": {
          "base_uri": "https://localhost:8080/"
        },
        "outputId": "eb32e3a4-7118-4834-dbf9-287f8794b83c"
      },
      "outputs": [
        {
          "output_type": "stream",
          "name": "stdout",
          "text": [
            "압축 해제 완료!\n"
          ]
        }
      ],
      "source": [
        "import zipfile\n",
        "\n",
        "zip_file_path = '/content/drive/MyDrive/AMY/VS_EO_SU_DT.zip'\n",
        "extract_to = '/content/drive/MyDrive/AMY/images_all/val'\n",
        "\n",
        "with zipfile.ZipFile(zip_file_path, 'r') as zip_ref:\n",
        "    zip_ref.extractall(extract_to)\n",
        "\n",
        "print(\"압축 해제 완료!\")"
      ]
    },
    {
      "cell_type": "markdown",
      "source": [
        "### 데이터 샘플링"
      ],
      "metadata": {
        "id": "gwGBk-DQ--dO"
      },
      "id": "gwGBk-DQ--dO"
    },
    {
      "cell_type": "markdown",
      "source": [
        "- 전체 개수 확인"
      ],
      "metadata": {
        "id": "W3rNAVE3CXs3"
      },
      "id": "W3rNAVE3CXs3"
    },
    {
      "cell_type": "code",
      "source": [
        "import os\n",
        "\n",
        "train_img = '/content/drive/MyDrive/AMY/images_all/train'\n",
        "train_json = '/content/drive/MyDrive/AMY/labels_json_all/train'\n",
        "val_img = '/content/drive/MyDrive/AMY/images_all/val'\n",
        "val_json = '/content/drive/MyDrive/AMY/labels_json_all/val'\n",
        "\n",
        "image_exts = ['.jpg', '.jpeg', '.png']\n",
        "json_exts = ['.json']\n",
        "\n",
        "# 각 폴더에 대해 파일 개수 계산\n",
        "image_train = [f for f in os.listdir(train_img) if os.path.splitext(f)[-1].lower() in image_exts]\n",
        "json_train = [f for f in os.listdir(train_json) if os.path.splitext(f)[-1].lower() in json_exts]\n",
        "image_val = [f for f in os.listdir(val_img) if os.path.splitext(f)[-1].lower() in image_exts]\n",
        "json_val = [f for f in os.listdir(val_json) if os.path.splitext(f)[-1].lower() in json_exts]\n",
        "\n",
        "# 결과 출력\n",
        "print(f\"train 이미지 파일 개수: {len(image_train)}개\")\n",
        "print(f\"train JSON 파일 개수: {len(json_train)}개\")\n",
        "print(f\"val 이미지 파일 개수: {len(image_val)}개\")\n",
        "print(f\"val JSON 파일 개수: {len(json_val)}개\")"
      ],
      "metadata": {
        "colab": {
          "base_uri": "https://localhost:8080/"
        },
        "id": "msYdHQVjAmV_",
        "outputId": "2337ae1f-e615-4024-fb95-d879be1bb0fb"
      },
      "id": "msYdHQVjAmV_",
      "execution_count": 5,
      "outputs": [
        {
          "output_type": "stream",
          "name": "stdout",
          "text": [
            "train 이미지 파일 개수: 28530개\n",
            "train JSON 파일 개수: 28530개\n",
            "val 이미지 파일 개수: 3567개\n",
            "val JSON 파일 개수: 3567개\n"
          ]
        }
      ]
    },
    {
      "cell_type": "markdown",
      "source": [
        "### 샘플링\n",
        "- train: 클래스당 100 개\n",
        "- val: 클래스 당 20개"
      ],
      "metadata": {
        "id": "pIDGWw-YIksY"
      },
      "id": "pIDGWw-YIksY"
    },
    {
      "cell_type": "code",
      "source": [
        "import os\n",
        "import json\n",
        "import shutil\n",
        "import random\n",
        "\n",
        "def random_sample(src_img_dir, src_json_dir, dst_img_dir, dst_json_dir, total_sample_count):\n",
        "    os.makedirs(dst_img_dir, exist_ok=True)\n",
        "    os.makedirs(dst_json_dir, exist_ok=True)\n",
        "\n",
        "    # 전체 JSON 파일 수집\n",
        "    all_files = [f for f in os.listdir(src_json_dir) if f.endswith('.json')]\n",
        "\n",
        "    print(f\"전체 파일 개수: {len(all_files)}개\")\n",
        "\n",
        "    # 무작위 섞기\n",
        "    random.shuffle(all_files)\n",
        "\n",
        "    # 샘플링\n",
        "    sampled = all_files[:total_sample_count]\n",
        "\n",
        "    for json_file in sampled:\n",
        "        base = os.path.splitext(json_file)[0]\n",
        "        src_img = os.path.join(src_img_dir, base + '.jpg')\n",
        "        src_json = os.path.join(src_json_dir, json_file)\n",
        "\n",
        "        dst_img = os.path.join(dst_img_dir, base + '.jpg')\n",
        "        dst_json = os.path.join(dst_json_dir, json_file)\n",
        "\n",
        "        if os.path.exists(src_img):\n",
        "            shutil.copy(src_img, dst_img)\n",
        "            shutil.copy(src_json, dst_json)\n",
        "\n",
        "    print(f\" 랜덤 샘플링 완료 ({len(sampled)}개)\")\n",
        "\n",
        "# 🔹 train 랜덤 샘플링\n",
        "random_sample(\n",
        "    src_img_dir='/content/drive/MyDrive/AMY/images_all/train',\n",
        "    src_json_dir='/content/drive/MyDrive/AMY/labels_json_all/train',\n",
        "    dst_img_dir='/content/drive/MyDrive/AMY/images/train',\n",
        "    dst_json_dir='/content/drive/MyDrive/AMY/labels_json/train',\n",
        "    total_sample_count=300  # 전체 중 300개 랜덤 샘플링\n",
        ")\n",
        "\n",
        "# 🔹 val 랜덤 샘플링\n",
        "random_sample(\n",
        "    src_img_dir='/content/drive/MyDrive/AMY/images_all/val',\n",
        "    src_json_dir='/content/drive/MyDrive/AMY/labels_json_all/val',\n",
        "    dst_img_dir='/content/drive/MyDrive/AMY/images/val',\n",
        "    dst_json_dir='/content/drive/MyDrive/AMY/labels_json/val',\n",
        "    total_sample_count=50  # 전체 중 50개 랜덤 샘플링\n",
        ")\n"
      ],
      "metadata": {
        "colab": {
          "base_uri": "https://localhost:8080/"
        },
        "id": "xlqSSCW4oRZ6",
        "outputId": "225a4c30-791b-42e4-a63e-ea128ff483fb"
      },
      "id": "xlqSSCW4oRZ6",
      "execution_count": 8,
      "outputs": [
        {
          "output_type": "stream",
          "name": "stdout",
          "text": [
            "전체 파일 개수: 28530개\n",
            " 랜덤 샘플링 완료 (300개)\n",
            "전체 파일 개수: 3567개\n",
            " 랜덤 샘플링 완료 (50개)\n"
          ]
        }
      ]
    },
    {
      "cell_type": "markdown",
      "id": "1a97d3b8",
      "metadata": {
        "id": "1a97d3b8"
      },
      "source": [
        "### json 파일 yolo 포맷(.txt) 파일로 변환"
      ]
    },
    {
      "cell_type": "markdown",
      "source": [
        "- w\n",
        "- h\n",
        "- x\n",
        "- y"
      ],
      "metadata": {
        "id": "wlu_5lCHRbx-"
      },
      "id": "wlu_5lCHRbx-"
    },
    {
      "cell_type": "code",
      "execution_count": null,
      "id": "9a8c833b",
      "metadata": {
        "id": "9a8c833b"
      },
      "outputs": [],
      "source": [
        "import json\n",
        "from PIL import Image\n",
        "\n",
        "# 기본 경로\n",
        "base_path = \"/content/drive/MyDrive/AMY\"\n",
        "\n",
        "# 경로 딕셔너리\n",
        "sets = {\n",
        "    'train': {\n",
        "        'json_folder': os.path.join(base_path, \"labels_json\", \"train\"),   # JSON 라벨\n",
        "        'image_folder': os.path.join(base_path, \"images\", \"train\"),  # 이미지\n",
        "        'output_folder': os.path.join(base_path, \"labels\", \"train\")  # YOLO 형식 저장될 위치\n",
        "    },\n",
        "    'val': {\n",
        "        'json_folder': os.path.join(base_path, \"labels_json\", \"val\"),\n",
        "        'image_folder': os.path.join(base_path, \"images\", \"val\"),\n",
        "        'output_folder': os.path.join(base_path, \"labels\", \"val\")\n",
        "    }\n",
        "}\n",
        "\n",
        "subclass_to_idx = {\n",
        "    11: 0, 12: 1, 13: 2,\n",
        "    21: 3, 22: 4, 23: 5,\n",
        "    31: 6, 41: 7, 42: 8\n",
        "}\n",
        "\n",
        "def convert_to_yolo(json_folder, image_folder, output_folder):\n",
        "    os.makedirs(output_folder, exist_ok=True)\n",
        "\n",
        "    for file in os.listdir(json_folder):\n",
        "        if file.endswith('.json'):\n",
        "            base_name = os.path.splitext(file)[0]\n",
        "\n",
        "            with open(os.path.join(json_folder, file), 'r', encoding='utf-8') as f:\n",
        "                data = json.load(f)\n",
        "\n",
        "            # 이미지 경로 찾기\n",
        "            image_path = None\n",
        "            for ext in ['.jpg', '.jpeg', '.png']:\n",
        "                candidate = os.path.join(image_folder, base_name + ext)\n",
        "                if os.path.exists(candidate):\n",
        "                    image_path = candidate\n",
        "                    break\n",
        "\n",
        "            if not image_path:\n",
        "                print(f\"⚠️ 이미지 없음: {base_name}\")\n",
        "                continue\n",
        "\n",
        "            # 이미지 열기\n",
        "            try:\n",
        "                with Image.open(image_path) as img:\n",
        "                    img_width, img_height = img.size\n",
        "            except Exception as e:\n",
        "                print(f\"⚠️ 이미지 열기 실패: {image_path} - {e}\")\n",
        "                continue\n",
        "\n",
        "            # YOLO 라벨 변환\n",
        "            yolo_lines = []\n",
        "            for ann in data.get(\"annotations\", []):\n",
        "                bbox = ann.get(\"bounding_box\")\n",
        "                if bbox and len(bbox) == 4:\n",
        "                    # assuming bbox format is [w, h, x, y]\n",
        "                    w, h, x, y = bbox\n",
        "\n",
        "                    # 중앙 좌표 및 크기 계산 (이미지 크기 그대로 사용)\n",
        "                    cx = (x + w / 2) / img_width  # 중심 좌표 X\n",
        "                    cy = (y + h / 2) / img_height  # 중심 좌표 Y\n",
        "                    w = w / img_width  # 너비 비율\n",
        "                    h = h / img_height  # 높이 비율\n",
        "\n",
        "                    # sub_class 값으로 클래스 id 결정\n",
        "                    sub_class = ann.get(\"sub_class\", 0)\n",
        "                    class_id = subclass_to_idx.get(sub_class, -1)\n",
        "                    if class_id == -1:\n",
        "                        print(f\"⚠️ 잘못된 sub_class 값: {sub_class} - {base_name}\")\n",
        "                        continue\n",
        "\n",
        "                    # YOLO 형식으로 라인 추가\n",
        "                    yolo_lines.append(f\"{class_id} {cx:.6f} {cy:.6f} {w:.6f} {h:.6f}\")\n",
        "\n",
        "            # 결과 저장\n",
        "            out_path = os.path.join(output_folder, base_name + \".txt\")\n",
        "            with open(out_path, \"w\", encoding='utf-8') as f:\n",
        "                f.write(\"\\n\".join(yolo_lines))\n",
        "\n",
        "            print(f\"변환 완료: {base_name}.txt\")\n",
        "\n",
        "# 실행\n",
        "for phase, paths in sets.items():\n",
        "    print(f\"\\n📂 처리 중: {phase}\")\n",
        "    convert_to_yolo(paths['json_folder'], paths['image_folder'], paths['output_folder'])\n"
      ]
    },
    {
      "cell_type": "markdown",
      "source": [
        "### 리사이징"
      ],
      "metadata": {
        "id": "Ebu1wrVhMAqC"
      },
      "id": "Ebu1wrVhMAqC"
    },
    {
      "cell_type": "code",
      "source": [
        "from PIL import Image\n",
        "\n",
        "def resize_images_in_directory(img_dir, target_size=(640, 640)):\n",
        "    for image_file in os.listdir(img_dir):\n",
        "        if image_file.lower().endswith(('.jpg')):  # 이미지 파일만 처리\n",
        "            image_path = os.path.join(img_dir, image_file)\n",
        "\n",
        "            with Image.open(image_path) as img:\n",
        "                # 리사이즈\n",
        "                img_resized = img.resize(target_size)\n",
        "                # 덮어쓰기 저장\n",
        "                img_resized.save(image_path)\n",
        "\n",
        "# 경로 지정\n",
        "train_img_dir = '/content/drive/MyDrive/AMY/images/train'\n",
        "val_img_dir = '/content/drive/MyDrive/AMY/images/val'\n",
        "\n",
        "# 실행\n",
        "resize_images_in_directory(train_img_dir)\n",
        "resize_images_in_directory(val_img_dir)\n",
        "\n",
        "print(\"리사이징 완료\")"
      ],
      "metadata": {
        "colab": {
          "base_uri": "https://localhost:8080/"
        },
        "id": "jDJKNjvzMC2h",
        "outputId": "1dcbc74b-f3b1-42a8-8d61-8d927b82b170"
      },
      "id": "jDJKNjvzMC2h",
      "execution_count": 10,
      "outputs": [
        {
          "output_type": "stream",
          "name": "stdout",
          "text": [
            "리사이징 완료\n"
          ]
        }
      ]
    },
    {
      "cell_type": "markdown",
      "source": [
        "### yaml 파일 제작"
      ],
      "metadata": {
        "id": "HDSufSkd-E0u"
      },
      "id": "HDSufSkd-E0u"
    },
    {
      "cell_type": "markdown",
      "source": [
        "어선=11, 군함=12, 상선=13, 고정익 유인항공기=21, 회전익 유인항공기=22 무인항공기=23, 새=31, 삐라=41, 오물폭탄=42"
      ],
      "metadata": {
        "id": "jYRcJ2RV8mAT"
      },
      "id": "jYRcJ2RV8mAT"
    },
    {
      "cell_type": "code",
      "source": [
        "# YAML 파일 내용\n",
        "yaml_content = \"\"\"\n",
        "train: /content/drive/MyDrive/AMY/images/train\n",
        "val: /content/drive/MyDrive/AMY/images/val\n",
        "\n",
        "nc: 9\n",
        "names: [\"11_어선\", \"12_군함\", \"13_상선\", \"21_고정유인항공기\", \"22_회전유인항공기\", \"23_무인항공기\", \"31_새\", \"41_삐라\", \"42_오물폭탄\"]\n",
        "\"\"\"\n",
        "\n",
        "# 파일 저장\n",
        "with open('/content/drive/MyDrive/AMY/classify.yaml', 'w') as file:\n",
        "    file.write(yaml_content)\n",
        "\n",
        "print(\"classify.yaml 파일 생성완료.\")"
      ],
      "metadata": {
        "colab": {
          "base_uri": "https://localhost:8080/"
        },
        "id": "SXxoVYb3-Kze",
        "outputId": "48ce433d-79e3-4acf-ba80-40f9addeb1b0"
      },
      "id": "SXxoVYb3-Kze",
      "execution_count": 16,
      "outputs": [
        {
          "output_type": "stream",
          "name": "stdout",
          "text": [
            "classify.yaml 파일 생성완료.\n"
          ]
        }
      ]
    },
    {
      "cell_type": "markdown",
      "source": [
        "## yolo 모델 구현\n",
        "- yolo11m.pt"
      ],
      "metadata": {
        "id": "TLDYJL0bGa-p"
      },
      "id": "TLDYJL0bGa-p"
    },
    {
      "cell_type": "code",
      "source": [
        "!git clone https://github.com/ultralytics/yolo11"
      ],
      "metadata": {
        "colab": {
          "base_uri": "https://localhost:8080/"
        },
        "id": "EUuPeOS7GeEP",
        "outputId": "3b22b23f-eb94-424e-80c0-521773a035ef"
      },
      "id": "EUuPeOS7GeEP",
      "execution_count": 12,
      "outputs": [
        {
          "output_type": "stream",
          "name": "stdout",
          "text": [
            "Cloning into 'yolo11'...\n",
            "fatal: could not read Username for 'https://github.com': No such device or address\n"
          ]
        }
      ]
    },
    {
      "cell_type": "code",
      "source": [
        "!pip install ultralytics"
      ],
      "metadata": {
        "id": "kz1suwQ8G0SK"
      },
      "id": "kz1suwQ8G0SK",
      "execution_count": null,
      "outputs": []
    },
    {
      "cell_type": "code",
      "source": [
        "!yolo detect train data='/content/drive/MyDrive/AMY/classify.yaml' model=yolo11n.pt epochs=50 imgsz=640 patience=10 batch=8 seed=42"
      ],
      "metadata": {
        "colab": {
          "base_uri": "https://localhost:8080/"
        },
        "id": "noiga58_G1eQ",
        "outputId": "b74790d6-36ca-46ef-a832-7bbe9180a75b"
      },
      "id": "noiga58_G1eQ",
      "execution_count": null,
      "outputs": [
        {
          "output_type": "stream",
          "name": "stdout",
          "text": [
            "Ultralytics 8.3.119 🚀 Python-3.11.12 torch-2.6.0+cu124 CPU (Intel Xeon 2.20GHz)\n",
            "\u001b[34m\u001b[1mengine/trainer: \u001b[0mtask=detect, mode=train, model=yolo11n.pt, data=/content/drive/MyDrive/AMY/classify.yaml, epochs=50, time=None, patience=10, batch=8, imgsz=640, save=True, save_period=-1, cache=False, device=None, workers=8, project=None, name=train4, exist_ok=False, pretrained=True, optimizer=auto, verbose=True, seed=42, deterministic=True, single_cls=False, rect=False, cos_lr=False, close_mosaic=10, resume=False, amp=True, fraction=1.0, profile=False, freeze=None, multi_scale=False, overlap_mask=True, mask_ratio=4, dropout=0.0, val=True, split=val, save_json=False, conf=None, iou=0.7, max_det=300, half=False, dnn=False, plots=True, source=None, vid_stride=1, stream_buffer=False, visualize=False, augment=False, agnostic_nms=False, classes=None, retina_masks=False, embed=None, show=False, save_frames=False, save_txt=False, save_conf=False, save_crop=False, show_labels=True, show_conf=True, show_boxes=True, line_width=None, format=torchscript, keras=False, optimize=False, int8=False, dynamic=False, simplify=True, opset=None, workspace=None, nms=False, lr0=0.01, lrf=0.01, momentum=0.937, weight_decay=0.0005, warmup_epochs=3.0, warmup_momentum=0.8, warmup_bias_lr=0.1, box=7.5, cls=0.5, dfl=1.5, pose=12.0, kobj=1.0, nbs=64, hsv_h=0.015, hsv_s=0.7, hsv_v=0.4, degrees=0.0, translate=0.1, scale=0.5, shear=0.0, perspective=0.0, flipud=0.0, fliplr=0.5, bgr=0.0, mosaic=1.0, mixup=0.0, cutmix=0.0, copy_paste=0.0, copy_paste_mode=flip, auto_augment=randaugment, erasing=0.4, cfg=None, tracker=botsort.yaml, save_dir=runs/detect/train4\n",
            "Overriding model.yaml nc=80 with nc=9\n",
            "\n",
            "                   from  n    params  module                                       arguments                     \n",
            "  0                  -1  1       464  ultralytics.nn.modules.conv.Conv             [3, 16, 3, 2]                 \n",
            "  1                  -1  1      4672  ultralytics.nn.modules.conv.Conv             [16, 32, 3, 2]                \n",
            "  2                  -1  1      6640  ultralytics.nn.modules.block.C3k2            [32, 64, 1, False, 0.25]      \n",
            "  3                  -1  1     36992  ultralytics.nn.modules.conv.Conv             [64, 64, 3, 2]                \n",
            "  4                  -1  1     26080  ultralytics.nn.modules.block.C3k2            [64, 128, 1, False, 0.25]     \n",
            "  5                  -1  1    147712  ultralytics.nn.modules.conv.Conv             [128, 128, 3, 2]              \n",
            "  6                  -1  1     87040  ultralytics.nn.modules.block.C3k2            [128, 128, 1, True]           \n",
            "  7                  -1  1    295424  ultralytics.nn.modules.conv.Conv             [128, 256, 3, 2]              \n",
            "  8                  -1  1    346112  ultralytics.nn.modules.block.C3k2            [256, 256, 1, True]           \n",
            "  9                  -1  1    164608  ultralytics.nn.modules.block.SPPF            [256, 256, 5]                 \n",
            " 10                  -1  1    249728  ultralytics.nn.modules.block.C2PSA           [256, 256, 1]                 \n",
            " 11                  -1  1         0  torch.nn.modules.upsampling.Upsample         [None, 2, 'nearest']          \n",
            " 12             [-1, 6]  1         0  ultralytics.nn.modules.conv.Concat           [1]                           \n",
            " 13                  -1  1    111296  ultralytics.nn.modules.block.C3k2            [384, 128, 1, False]          \n",
            " 14                  -1  1         0  torch.nn.modules.upsampling.Upsample         [None, 2, 'nearest']          \n",
            " 15             [-1, 4]  1         0  ultralytics.nn.modules.conv.Concat           [1]                           \n",
            " 16                  -1  1     32096  ultralytics.nn.modules.block.C3k2            [256, 64, 1, False]           \n",
            " 17                  -1  1     36992  ultralytics.nn.modules.conv.Conv             [64, 64, 3, 2]                \n",
            " 18            [-1, 13]  1         0  ultralytics.nn.modules.conv.Concat           [1]                           \n",
            " 19                  -1  1     86720  ultralytics.nn.modules.block.C3k2            [192, 128, 1, False]          \n",
            " 20                  -1  1    147712  ultralytics.nn.modules.conv.Conv             [128, 128, 3, 2]              \n",
            " 21            [-1, 10]  1         0  ultralytics.nn.modules.conv.Concat           [1]                           \n",
            " 22                  -1  1    378880  ultralytics.nn.modules.block.C3k2            [384, 256, 1, True]           \n",
            " 23        [16, 19, 22]  1    432427  ultralytics.nn.modules.head.Detect           [9, [64, 128, 256]]           \n",
            "YOLO11n summary: 181 layers, 2,591,595 parameters, 2,591,579 gradients, 6.4 GFLOPs\n",
            "\n",
            "Transferred 448/499 items from pretrained weights\n",
            "Freezing layer 'model.23.dfl.conv.weight'\n",
            "\u001b[34m\u001b[1mtrain: \u001b[0mFast image access ✅ (ping: 1.0±0.7 ms, read: 11.0±3.8 MB/s, size: 25.5 KB)\n",
            "\u001b[34m\u001b[1mtrain: \u001b[0mScanning /content/drive/MyDrive/AMY/labels/train.cache... 300 images, 0 backgrounds, 0 corrupt: 100% 300/300 [00:00<?, ?it/s]\n",
            "\u001b[34m\u001b[1malbumentations: \u001b[0mBlur(p=0.01, blur_limit=(3, 7)), MedianBlur(p=0.01, blur_limit=(3, 7)), ToGray(p=0.01, num_output_channels=3, method='weighted_average'), CLAHE(p=0.01, clip_limit=(1.0, 4.0), tile_grid_size=(8, 8))\n",
            "\u001b[34m\u001b[1mval: \u001b[0mFast image access ✅ (ping: 0.5±0.1 ms, read: 8.3±5.0 MB/s, size: 20.6 KB)\n",
            "\u001b[34m\u001b[1mval: \u001b[0mScanning /content/drive/MyDrive/AMY/labels/val.cache... 50 images, 0 backgrounds, 0 corrupt: 100% 50/50 [00:00<?, ?it/s]\n",
            "Plotting labels to runs/detect/train4/labels.jpg... \n",
            "\u001b[34m\u001b[1moptimizer:\u001b[0m 'optimizer=auto' found, ignoring 'lr0=0.01' and 'momentum=0.937' and determining best 'optimizer', 'lr0' and 'momentum' automatically... \n",
            "\u001b[34m\u001b[1moptimizer:\u001b[0m AdamW(lr=0.000769, momentum=0.9) with parameter groups 81 weight(decay=0.0), 88 weight(decay=0.0005), 87 bias(decay=0.0)\n",
            "Image sizes 640 train, 640 val\n",
            "Using 0 dataloader workers\n",
            "Logging results to \u001b[1mruns/detect/train4\u001b[0m\n",
            "Starting training for 50 epochs...\n",
            "\n",
            "      Epoch    GPU_mem   box_loss   cls_loss   dfl_loss  Instances       Size\n",
            "       1/50         0G      1.672      4.892     0.9946          9        640: 100% 38/38 [04:57<00:00,  7.83s/it]\n",
            "                 Class     Images  Instances      Box(P          R      mAP50  mAP50-95): 100% 4/4 [00:20<00:00,  5.18s/it]\n",
            "                   all         50        114    0.00342      0.295      0.025    0.00849\n",
            "\n",
            "      Epoch    GPU_mem   box_loss   cls_loss   dfl_loss  Instances       Size\n",
            "       2/50         0G      1.533      3.809      1.001          4        640: 100% 38/38 [04:54<00:00,  7.74s/it]\n",
            "                 Class     Images  Instances      Box(P          R      mAP50  mAP50-95): 100% 4/4 [00:21<00:00,  5.27s/it]\n",
            "                   all         50        114    0.00367      0.426      0.095      0.045\n",
            "\n",
            "      Epoch    GPU_mem   box_loss   cls_loss   dfl_loss  Instances       Size\n",
            "       3/50         0G      1.454      3.255      1.007          9        640: 100% 38/38 [04:42<00:00,  7.43s/it]\n",
            "                 Class     Images  Instances      Box(P          R      mAP50  mAP50-95): 100% 4/4 [00:19<00:00,  4.88s/it]\n",
            "                   all         50        114      0.758      0.109      0.272      0.158\n",
            "\n",
            "      Epoch    GPU_mem   box_loss   cls_loss   dfl_loss  Instances       Size\n",
            "       4/50         0G       1.47      2.922      1.003         21        640: 100% 38/38 [04:35<00:00,  7.26s/it]\n",
            "                 Class     Images  Instances      Box(P          R      mAP50  mAP50-95): 100% 4/4 [00:19<00:00,  4.76s/it]\n",
            "                   all         50        114      0.533        0.5      0.399      0.254\n",
            "\n",
            "      Epoch    GPU_mem   box_loss   cls_loss   dfl_loss  Instances       Size\n",
            "       5/50         0G       1.41      2.627      1.002          8        640: 100% 38/38 [04:25<00:00,  6.99s/it]\n",
            "                 Class     Images  Instances      Box(P          R      mAP50  mAP50-95): 100% 4/4 [00:19<00:00,  4.97s/it]\n",
            "                   all         50        114      0.551      0.475      0.465      0.304\n",
            "\n",
            "      Epoch    GPU_mem   box_loss   cls_loss   dfl_loss  Instances       Size\n",
            "       6/50         0G       1.33      2.495     0.9559         18        640: 100% 38/38 [04:32<00:00,  7.17s/it]\n",
            "                 Class     Images  Instances      Box(P          R      mAP50  mAP50-95): 100% 4/4 [00:17<00:00,  4.38s/it]\n",
            "                   all         50        114       0.57      0.447      0.466      0.306\n",
            "\n",
            "      Epoch    GPU_mem   box_loss   cls_loss   dfl_loss  Instances       Size\n",
            "       7/50         0G      1.304      2.358     0.9745          7        640: 100% 38/38 [04:30<00:00,  7.11s/it]\n",
            "                 Class     Images  Instances      Box(P          R      mAP50  mAP50-95): 100% 4/4 [00:18<00:00,  4.54s/it]\n",
            "                   all         50        114      0.601      0.513      0.542      0.379\n",
            "\n",
            "      Epoch    GPU_mem   box_loss   cls_loss   dfl_loss  Instances       Size\n",
            "       8/50         0G      1.284      2.157     0.9491         16        640: 100% 38/38 [04:25<00:00,  6.99s/it]\n",
            "                 Class     Images  Instances      Box(P          R      mAP50  mAP50-95): 100% 4/4 [00:16<00:00,  4.16s/it]\n",
            "                   all         50        114      0.694      0.527      0.583      0.387\n",
            "\n",
            "      Epoch    GPU_mem   box_loss   cls_loss   dfl_loss  Instances       Size\n",
            "       9/50         0G      1.247      2.095     0.9437         13        640: 100% 38/38 [04:30<00:00,  7.11s/it]\n",
            "                 Class     Images  Instances      Box(P          R      mAP50  mAP50-95): 100% 4/4 [00:17<00:00,  4.45s/it]\n",
            "                   all         50        114      0.703       0.56      0.637      0.432\n",
            "\n",
            "      Epoch    GPU_mem   box_loss   cls_loss   dfl_loss  Instances       Size\n",
            "      10/50         0G       1.26      2.106     0.9638          6        640: 100% 38/38 [04:35<00:00,  7.26s/it]\n",
            "                 Class     Images  Instances      Box(P          R      mAP50  mAP50-95): 100% 4/4 [00:20<00:00,  5.01s/it]\n",
            "                   all         50        114      0.734      0.607      0.695      0.484\n",
            "\n",
            "      Epoch    GPU_mem   box_loss   cls_loss   dfl_loss  Instances       Size\n",
            "      11/50         0G      1.127       1.86     0.9233          9        640: 100% 38/38 [04:35<00:00,  7.25s/it]\n",
            "                 Class     Images  Instances      Box(P          R      mAP50  mAP50-95): 100% 4/4 [00:17<00:00,  4.47s/it]\n",
            "                   all         50        114      0.714      0.636      0.718      0.474\n",
            "\n",
            "      Epoch    GPU_mem   box_loss   cls_loss   dfl_loss  Instances       Size\n",
            "      12/50         0G      1.185      1.838     0.9487         16        640: 100% 38/38 [04:28<00:00,  7.07s/it]\n",
            "                 Class     Images  Instances      Box(P          R      mAP50  mAP50-95): 100% 4/4 [00:16<00:00,  4.17s/it]\n",
            "                   all         50        114      0.682      0.635      0.697      0.464\n",
            "\n",
            "      Epoch    GPU_mem   box_loss   cls_loss   dfl_loss  Instances       Size\n",
            "      13/50         0G      1.135      1.674     0.9318         12        640: 100% 38/38 [04:28<00:00,  7.07s/it]\n",
            "                 Class     Images  Instances      Box(P          R      mAP50  mAP50-95): 100% 4/4 [00:17<00:00,  4.34s/it]\n",
            "                   all         50        114      0.676      0.636       0.73        0.5\n",
            "\n",
            "      Epoch    GPU_mem   box_loss   cls_loss   dfl_loss  Instances       Size\n",
            "      14/50         0G      1.141      1.675      0.921         14        640: 100% 38/38 [04:33<00:00,  7.21s/it]\n",
            "                 Class     Images  Instances      Box(P          R      mAP50  mAP50-95): 100% 4/4 [00:18<00:00,  4.58s/it]\n",
            "                   all         50        114      0.711      0.683      0.758      0.489\n",
            "\n",
            "      Epoch    GPU_mem   box_loss   cls_loss   dfl_loss  Instances       Size\n",
            "      15/50         0G      1.075      1.576     0.9102          8        640: 100% 38/38 [04:30<00:00,  7.12s/it]\n",
            "                 Class     Images  Instances      Box(P          R      mAP50  mAP50-95): 100% 4/4 [00:19<00:00,  4.94s/it]\n",
            "                   all         50        114      0.718      0.688        0.8      0.561\n",
            "\n",
            "      Epoch    GPU_mem   box_loss   cls_loss   dfl_loss  Instances       Size\n",
            "      16/50         0G      1.085      1.551     0.9122         17        640: 100% 38/38 [04:33<00:00,  7.20s/it]\n",
            "                 Class     Images  Instances      Box(P          R      mAP50  mAP50-95): 100% 4/4 [00:17<00:00,  4.25s/it]\n",
            "                   all         50        114      0.786      0.644      0.795      0.546\n",
            "\n",
            "      Epoch    GPU_mem   box_loss   cls_loss   dfl_loss  Instances       Size\n",
            "      17/50         0G      1.088      1.492     0.9164         18        640: 100% 38/38 [04:39<00:00,  7.35s/it]\n",
            "                 Class     Images  Instances      Box(P          R      mAP50  mAP50-95): 100% 4/4 [00:18<00:00,  4.57s/it]\n",
            "                   all         50        114      0.663      0.769       0.78      0.563\n",
            "\n",
            "      Epoch    GPU_mem   box_loss   cls_loss   dfl_loss  Instances       Size\n",
            "      18/50         0G      1.072      1.483     0.9075         22        640: 100% 38/38 [04:38<00:00,  7.33s/it]\n",
            "                 Class     Images  Instances      Box(P          R      mAP50  mAP50-95): 100% 4/4 [00:17<00:00,  4.48s/it]\n",
            "                   all         50        114      0.628       0.86      0.833      0.594\n",
            "\n",
            "      Epoch    GPU_mem   box_loss   cls_loss   dfl_loss  Instances       Size\n",
            "      19/50         0G      1.022      1.344     0.8905         10        640: 100% 38/38 [04:37<00:00,  7.30s/it]\n",
            "                 Class     Images  Instances      Box(P          R      mAP50  mAP50-95): 100% 4/4 [00:18<00:00,  4.61s/it]\n",
            "                   all         50        114      0.636      0.913      0.844      0.584\n",
            "\n",
            "      Epoch    GPU_mem   box_loss   cls_loss   dfl_loss  Instances       Size\n",
            "      20/50         0G      1.031      1.406     0.8789         12        640: 100% 38/38 [04:39<00:00,  7.35s/it]\n",
            "                 Class     Images  Instances      Box(P          R      mAP50  mAP50-95): 100% 4/4 [00:18<00:00,  4.52s/it]\n",
            "                   all         50        114      0.833      0.665      0.846        0.6\n",
            "\n",
            "      Epoch    GPU_mem   box_loss   cls_loss   dfl_loss  Instances       Size\n",
            "      21/50         0G      1.034      1.342     0.8939          9        640: 100% 38/38 [04:37<00:00,  7.29s/it]\n",
            "                 Class     Images  Instances      Box(P          R      mAP50  mAP50-95): 100% 4/4 [00:16<00:00,  4.20s/it]\n",
            "                   all         50        114      0.662      0.835      0.859      0.612\n",
            "\n",
            "      Epoch    GPU_mem   box_loss   cls_loss   dfl_loss  Instances       Size\n",
            "      22/50         0G      1.016      1.338     0.9001         10        640: 100% 38/38 [04:35<00:00,  7.26s/it]\n",
            "                 Class     Images  Instances      Box(P          R      mAP50  mAP50-95): 100% 4/4 [00:17<00:00,  4.41s/it]\n",
            "                   all         50        114      0.734      0.763       0.86      0.595\n",
            "\n",
            "      Epoch    GPU_mem   box_loss   cls_loss   dfl_loss  Instances       Size\n",
            "      23/50         0G     0.9779       1.34     0.8973         12        640: 100% 38/38 [04:30<00:00,  7.12s/it]\n",
            "                 Class     Images  Instances      Box(P          R      mAP50  mAP50-95): 100% 4/4 [00:19<00:00,  4.98s/it]\n",
            "                   all         50        114       0.76      0.778      0.848      0.592\n",
            "\n",
            "      Epoch    GPU_mem   box_loss   cls_loss   dfl_loss  Instances       Size\n",
            "      24/50         0G      1.021      1.371     0.9111          9        640: 100% 38/38 [04:32<00:00,  7.16s/it]\n",
            "                 Class     Images  Instances      Box(P          R      mAP50  mAP50-95): 100% 4/4 [00:17<00:00,  4.38s/it]\n",
            "                   all         50        114       0.71       0.86      0.859      0.612\n",
            "\n",
            "      Epoch    GPU_mem   box_loss   cls_loss   dfl_loss  Instances       Size\n",
            "      25/50         0G     0.9496      1.238     0.8829         11        640: 100% 38/38 [04:32<00:00,  7.17s/it]\n",
            "                 Class     Images  Instances      Box(P          R      mAP50  mAP50-95): 100% 4/4 [00:17<00:00,  4.29s/it]\n",
            "                   all         50        114      0.783        0.8      0.867      0.618\n",
            "\n",
            "      Epoch    GPU_mem   box_loss   cls_loss   dfl_loss  Instances       Size\n",
            "      26/50         0G      1.011      1.237     0.8996         13        640: 100% 38/38 [04:36<00:00,  7.27s/it]\n",
            "                 Class     Images  Instances      Box(P          R      mAP50  mAP50-95): 100% 4/4 [00:18<00:00,  4.68s/it]\n",
            "                   all         50        114      0.789      0.801      0.861      0.623\n",
            "\n",
            "      Epoch    GPU_mem   box_loss   cls_loss   dfl_loss  Instances       Size\n",
            "      27/50         0G      1.002      1.239     0.8959          9        640: 100% 38/38 [04:31<00:00,  7.15s/it]\n",
            "                 Class     Images  Instances      Box(P          R      mAP50  mAP50-95): 100% 4/4 [00:18<00:00,  4.56s/it]\n",
            "                   all         50        114      0.742      0.833       0.86      0.624\n",
            "\n",
            "      Epoch    GPU_mem   box_loss   cls_loss   dfl_loss  Instances       Size\n",
            "      28/50         0G     0.9273      1.162     0.8791         14        640: 100% 38/38 [04:34<00:00,  7.21s/it]\n",
            "                 Class     Images  Instances      Box(P          R      mAP50  mAP50-95): 100% 4/4 [00:18<00:00,  4.61s/it]\n",
            "                   all         50        114      0.702      0.844       0.87      0.645\n",
            "\n",
            "      Epoch    GPU_mem   box_loss   cls_loss   dfl_loss  Instances       Size\n",
            "      29/50         0G     0.9583      1.157     0.8831         17        640: 100% 38/38 [04:29<00:00,  7.10s/it]\n",
            "                 Class     Images  Instances      Box(P          R      mAP50  mAP50-95): 100% 4/4 [00:18<00:00,  4.67s/it]\n",
            "                   all         50        114      0.797      0.781       0.89      0.645\n",
            "\n",
            "      Epoch    GPU_mem   box_loss   cls_loss   dfl_loss  Instances       Size\n",
            "      30/50         0G     0.9399       1.11     0.8723          6        640: 100% 38/38 [04:32<00:00,  7.16s/it]\n",
            "                 Class     Images  Instances      Box(P          R      mAP50  mAP50-95): 100% 4/4 [00:18<00:00,  4.59s/it]\n",
            "                   all         50        114      0.764      0.845      0.889      0.657\n",
            "\n",
            "      Epoch    GPU_mem   box_loss   cls_loss   dfl_loss  Instances       Size\n",
            "      31/50         0G     0.9539      1.156     0.8781          9        640: 100% 38/38 [04:27<00:00,  7.05s/it]\n",
            "                 Class     Images  Instances      Box(P          R      mAP50  mAP50-95): 100% 4/4 [00:16<00:00,  4.23s/it]\n",
            "                   all         50        114      0.799      0.831      0.888      0.653\n",
            "\n",
            "      Epoch    GPU_mem   box_loss   cls_loss   dfl_loss  Instances       Size\n",
            "      32/50         0G     0.8894      1.062     0.8704         12        640: 100% 38/38 [04:32<00:00,  7.16s/it]\n",
            "                 Class     Images  Instances      Box(P          R      mAP50  mAP50-95): 100% 4/4 [00:17<00:00,  4.31s/it]\n",
            "                   all         50        114      0.825      0.799      0.904      0.657\n",
            "\n",
            "      Epoch    GPU_mem   box_loss   cls_loss   dfl_loss  Instances       Size\n",
            "      33/50         0G     0.9506      1.146     0.8775         14        640: 100% 38/38 [04:35<00:00,  7.24s/it]\n",
            "                 Class     Images  Instances      Box(P          R      mAP50  mAP50-95): 100% 4/4 [00:19<00:00,  4.89s/it]\n",
            "                   all         50        114       0.84      0.803      0.895      0.664\n",
            "\n",
            "      Epoch    GPU_mem   box_loss   cls_loss   dfl_loss  Instances       Size\n",
            "      34/50         0G      0.913      1.064     0.8598         13        640: 100% 38/38 [04:32<00:00,  7.16s/it]\n",
            "                 Class     Images  Instances      Box(P          R      mAP50  mAP50-95): 100% 4/4 [00:18<00:00,  4.54s/it]\n",
            "                   all         50        114      0.857      0.798      0.909      0.658\n",
            "\n",
            "      Epoch    GPU_mem   box_loss   cls_loss   dfl_loss  Instances       Size\n",
            "      35/50         0G     0.8959      1.028      0.859         18        640: 100% 38/38 [04:33<00:00,  7.19s/it]\n",
            "                 Class     Images  Instances      Box(P          R      mAP50  mAP50-95): 100% 4/4 [00:18<00:00,  4.73s/it]\n",
            "                   all         50        114      0.849      0.795      0.926      0.677\n",
            "\n",
            "      Epoch    GPU_mem   box_loss   cls_loss   dfl_loss  Instances       Size\n",
            "      36/50         0G     0.9211      1.077     0.8673         14        640: 100% 38/38 [04:46<00:00,  7.53s/it]\n",
            "                 Class     Images  Instances      Box(P          R      mAP50  mAP50-95): 100% 4/4 [00:20<00:00,  5.01s/it]\n",
            "                   all         50        114      0.816      0.888      0.928      0.667\n",
            "\n",
            "      Epoch    GPU_mem   box_loss   cls_loss   dfl_loss  Instances       Size\n",
            "      37/50         0G     0.9165      1.041     0.8793          9        640: 100% 38/38 [04:47<00:00,  7.57s/it]\n",
            "                 Class     Images  Instances      Box(P          R      mAP50  mAP50-95): 100% 4/4 [00:19<00:00,  4.91s/it]\n",
            "                   all         50        114      0.734        0.9      0.924      0.668\n",
            "\n",
            "      Epoch    GPU_mem   box_loss   cls_loss   dfl_loss  Instances       Size\n",
            "      38/50         0G     0.8992      1.012     0.8611         11        640: 100% 38/38 [04:47<00:00,  7.57s/it]\n",
            "                 Class     Images  Instances      Box(P          R      mAP50  mAP50-95): 100% 4/4 [00:19<00:00,  4.77s/it]\n",
            "                   all         50        114      0.762      0.878      0.928      0.695\n",
            "\n",
            "      Epoch    GPU_mem   box_loss   cls_loss   dfl_loss  Instances       Size\n",
            "      39/50         0G      0.875     0.9612     0.8704         10        640: 100% 38/38 [04:45<00:00,  7.51s/it]\n",
            "                 Class     Images  Instances      Box(P          R      mAP50  mAP50-95): 100% 4/4 [00:20<00:00,  5.01s/it]\n",
            "                   all         50        114      0.835      0.839      0.938      0.693\n",
            "\n",
            "      Epoch    GPU_mem   box_loss   cls_loss   dfl_loss  Instances       Size\n",
            "      40/50         0G     0.8632     0.9597      0.861         19        640: 100% 38/38 [04:40<00:00,  7.38s/it]\n",
            "                 Class     Images  Instances      Box(P          R      mAP50  mAP50-95): 100% 4/4 [00:19<00:00,  4.89s/it]\n",
            "                   all         50        114      0.883      0.796      0.945      0.713\n",
            "Closing dataloader mosaic\n",
            "\u001b[34m\u001b[1malbumentations: \u001b[0mBlur(p=0.01, blur_limit=(3, 7)), MedianBlur(p=0.01, blur_limit=(3, 7)), ToGray(p=0.01, num_output_channels=3, method='weighted_average'), CLAHE(p=0.01, clip_limit=(1.0, 4.0), tile_grid_size=(8, 8))\n",
            "\n",
            "      Epoch    GPU_mem   box_loss   cls_loss   dfl_loss  Instances       Size\n",
            "      41/50         0G     0.8505      1.057     0.8608         16        640:  95% 36/38 [04:25<00:14,  7.29s/it]"
          ]
        }
      ]
    }
  ],
  "metadata": {
    "kernelspec": {
      "display_name": "Python 3",
      "name": "python3"
    },
    "language_info": {
      "name": "python",
      "version": "3.12.7"
    },
    "colab": {
      "provenance": [],
      "gpuType": "T4",
      "include_colab_link": true
    },
    "accelerator": "GPU"
  },
  "nbformat": 4,
  "nbformat_minor": 5
}